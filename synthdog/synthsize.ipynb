{
 "cells": [
  {
   "cell_type": "code",
   "execution_count": 2,
   "id": "f7adf597",
   "metadata": {},
   "outputs": [],
   "source": [
    "# !synthtiger -o synthesize_npdata -c 1500 -w 4 -v template.py SynthDoG config_np.yaml"
   ]
  },
  {
   "cell_type": "code",
   "execution_count": 9,
   "id": "3b88e32c",
   "metadata": {},
   "outputs": [],
   "source": [
    "from PIL import Image, ImageDraw, ImageFont\n",
    "\n",
    "text = \"कक्षा\"\n",
    "font = ImageFont.truetype(\"resources/font/np/NotoSansDevanagari-VariableFont_wdth,wght.ttf\", 48)\n",
    "\n",
    "img = Image.new(\"RGB\", (300, 100), color=(255, 255, 255))\n",
    "draw = ImageDraw.Draw(img)\n",
    "draw.text((10, 10), text, font=font, fill=(0, 0, 0))\n",
    "img.save(\"devanagari_test.png\")\n"
   ]
  },
  {
   "cell_type": "code",
   "execution_count": null,
   "id": "891e93ab",
   "metadata": {},
   "outputs": [],
   "source": []
  },
  {
   "cell_type": "code",
   "execution_count": 11,
   "id": "22c59eda",
   "metadata": {},
   "outputs": [
    {
     "name": "stdout",
     "output_type": "stream",
     "text": [
      "True\n"
     ]
    }
   ],
   "source": [
    "from PIL import features\n",
    "print(features.check(\"raqm\"))  "
   ]
  }
 ],
 "metadata": {
  "kernelspec": {
   "display_name": "Python 3",
   "language": "python",
   "name": "python3"
  },
  "language_info": {
   "codemirror_mode": {
    "name": "ipython",
    "version": 3
   },
   "file_extension": ".py",
   "mimetype": "text/x-python",
   "name": "python",
   "nbconvert_exporter": "python",
   "pygments_lexer": "ipython3",
   "version": "3.11.1"
  }
 },
 "nbformat": 4,
 "nbformat_minor": 5
}
